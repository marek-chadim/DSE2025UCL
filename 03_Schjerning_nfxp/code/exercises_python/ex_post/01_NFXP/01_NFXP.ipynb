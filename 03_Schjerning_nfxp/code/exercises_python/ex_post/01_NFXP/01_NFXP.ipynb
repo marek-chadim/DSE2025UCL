{
 "cells": [
  {
   "cell_type": "code",
   "execution_count": 3,
   "metadata": {},
   "outputs": [
    {
     "name": "stdout",
     "output_type": "stream",
     "text": [
      "The autoreload extension is already loaded. To reload it, use:\n",
      "  %reload_ext autoreload\n",
      "The line_profiler extension is already loaded. To reload it, use:\n",
      "  %reload_ext line_profiler\n"
     ]
    }
   ],
   "source": [
    "# magics: ensures that any changes to the modules loaded below will be re-loaded automatically\n",
    "%load_ext autoreload\n",
    "%autoreload 2\n",
    "%load_ext line_profiler\n",
    "\n",
    "# load general packages\n",
    "import numpy as np\n",
    "import matplotlib.pyplot as plt\n",
    "plt.style.use('seaborn-v0_8-whitegrid')\n",
    "\n",
    "# load modules related to this exercise\n",
    "from model_zucher import zurcher\n",
    "from Solve_NFXP import solve_NFXP\n",
    "import estimate_NFXP as estimate"
   ]
  },
  {
   "cell_type": "markdown",
   "metadata": {},
   "source": [
    "#### Before solving the exercise, you should download line_profiler. Line_profiler is a tool to check the performance of our code. To install line_profiler, you can open anaconda prompt and write \"pip install line-profiler\" (without the \" \" of course). If you want to know more about line_profiler, check the link below:\n",
    "\n",
    "https://github.com/rkern/line_profiler."
   ]
  },
  {
   "cell_type": "markdown",
   "metadata": {},
   "source": [
    "# Exercise 1"
   ]
  },
  {
   "cell_type": "markdown",
   "metadata": {},
   "source": [
    "#### Consider the engine replacement model given by:\n",
    "\n",
    "$$\n",
    "V(x,\\varepsilon) = \\max_{d\\in \\{0,1\\}} \\big\\{ u(x,d) + \\varepsilon_d + \\beta\n",
    "\\underbrace{\\int_{X} \\int_{\\Omega} V(x',\\varepsilon') \\pi(x'|x,d) q(\\varepsilon'|x') dx' d\\varepsilon' }_{EV(x,d)} \\big\\}\n",
    "$$\n",
    "\n",
    "Where $ \\varepsilon $ is extreme value Type I distribued and utility is given by:\n",
    "\n",
    "$$\n",
    "u(x,d)=\\left \\{\n",
    "\\begin{array}{ll}\n",
    "    -RC-c(0,\\theta_1) & \\text{if }d=\\text{replace}=1 \\\\\n",
    "    -c(x,\\theta_1) & \\text{if }d=\\text{keep}=0\n",
    "\\end{array} \\right.\n",
    "$$\n",
    "\n",
    "Here\n",
    "\n",
    "- $ RC $ = replacement cost  \n",
    "- $ c(x,\\theta_1) $ = cost of maintenance with preference parameters $ \\theta_1 $  \n",
    "\n",
    "\n"
   ]
  },
  {
   "cell_type": "markdown",
   "metadata": {},
   "source": [
    "#### 1. Look at ReadMe.txt to get an overview of the code"
   ]
  },
  {
   "cell_type": "markdown",
   "metadata": {},
   "source": [
    "#### 2. Invistigate how the code works, that is ensure you understand:\n",
    "<il type =\"a\">\n",
    "<li> zurcher.init</li>\n",
    "<li> zurcher.setup</li>\n",
    "<li> zurcher.create_grid</li>\n",
    "<li> zucher.state_transition </li>\n",
    "<li> zucher.bellman </li>\n",
    "\n",
    "You can see how they are called below\n",
    "    "
   ]
  },
  {
   "cell_type": "markdown",
   "metadata": {},
   "source": [
    "#### 3. Fill in the missing stuff in the function zucher.bellman and run the code below. "
   ]
  },
  {
   "cell_type": "code",
   "execution_count": 4,
   "metadata": {},
   "outputs": [
    {
     "name": "stdout",
     "output_type": "stream",
     "text": [
      "Model grid:\n",
      " [ 0  1  2  3  4  5  6  7  8  9 10 11]\n",
      "Transition probabilities conditional on not replacing:\n",
      " [[0.65 0.2  0.1  0.05 0.   0.   0.   0.   0.   0.   0.   0.  ]\n",
      " [0.   0.65 0.2  0.1  0.05 0.   0.   0.   0.   0.   0.   0.  ]\n",
      " [0.   0.   0.65 0.2  0.1  0.05 0.   0.   0.   0.   0.   0.  ]\n",
      " [0.   0.   0.   0.65 0.2  0.1  0.05 0.   0.   0.   0.   0.  ]\n",
      " [0.   0.   0.   0.   0.65 0.2  0.1  0.05 0.   0.   0.   0.  ]\n",
      " [0.   0.   0.   0.   0.   0.65 0.2  0.1  0.05 0.   0.   0.  ]\n",
      " [0.   0.   0.   0.   0.   0.   0.65 0.2  0.1  0.05 0.   0.  ]\n",
      " [0.   0.   0.   0.   0.   0.   0.   0.65 0.2  0.1  0.05 0.  ]\n",
      " [0.   0.   0.   0.   0.   0.   0.   0.   0.65 0.2  0.1  0.05]\n",
      " [0.   0.   0.   0.   0.   0.   0.   0.   0.   0.65 0.2  0.15]\n",
      " [0.   0.   0.   0.   0.   0.   0.   0.   0.   0.   0.65 0.35]\n",
      " [0.   0.   0.   0.   0.   0.   0.   0.   0.   0.   0.   1.  ]]\n",
      "Transition probabilities conditional on replacing:\n",
      " [[0.65 0.2  0.1  0.05 0.   0.   0.   0.   0.   0.   0.   0.  ]\n",
      " [0.65 0.2  0.1  0.05 0.   0.   0.   0.   0.   0.   0.   0.  ]\n",
      " [0.65 0.2  0.1  0.05 0.   0.   0.   0.   0.   0.   0.   0.  ]\n",
      " [0.65 0.2  0.1  0.05 0.   0.   0.   0.   0.   0.   0.   0.  ]\n",
      " [0.65 0.2  0.1  0.05 0.   0.   0.   0.   0.   0.   0.   0.  ]\n",
      " [0.65 0.2  0.1  0.05 0.   0.   0.   0.   0.   0.   0.   0.  ]\n",
      " [0.65 0.2  0.1  0.05 0.   0.   0.   0.   0.   0.   0.   0.  ]\n",
      " [0.65 0.2  0.1  0.05 0.   0.   0.   0.   0.   0.   0.   0.  ]\n",
      " [0.65 0.2  0.1  0.05 0.   0.   0.   0.   0.   0.   0.   0.  ]\n",
      " [0.65 0.2  0.1  0.05 0.   0.   0.   0.   0.   0.   0.   0.  ]\n",
      " [0.65 0.2  0.1  0.05 0.   0.   0.   0.   0.   0.   0.   0.  ]\n",
      " [0.65 0.2  0.1  0.05 0.   0.   0.   0.   0.   0.   0.   0.  ]]\n",
      "Bellman one run:\n",
      " [0.47407698 0.47254913 0.47102269 0.46949766 0.46797406 0.46645188\n",
      " 0.46493112 0.46341178 0.46189387 0.46037738 0.45886231 0.45734867]\n"
     ]
    }
   ],
   "source": [
    "do_settings = {\n",
    "    'RC': 0.5,\n",
    "    'n': 12,\n",
    "    'p':[0.65,0.2,0.1]   \n",
    "}\n",
    "model = zurcher(**do_settings)\n",
    "\n",
    "print('Model grid:\\n',model.grid)\n",
    "print('Transition probabilities conditional on not replacing:\\n',model.P1)\n",
    "print('Transition probabilities conditional on replacing:\\n',model.P2)\n",
    "ev,pk, dev = model.bellman(np.zeros((model.n)),output=3)\n",
    "print('Bellman one run:\\n',ev)"
   ]
  },
  {
   "cell_type": "markdown",
   "metadata": {},
   "source": [
    "### Newton's Method\n",
    "\n",
    "Next, we need to solve the model. Rust 1987 uses Newton–Kantorovich (NK) theorem to solve the Bellman equation in the engine replacement model. To understand the NK algorithm, consider using the Newton's method to solve the single-variable equation, $f(x)=0$. The Newton method uses the iterative procedure stated below to solve the equation:\n",
    "\n",
    "$$x_{n+1} = x_{n} - \\frac{f(x_n)}{f'(x_n)}$$\n",
    "\n",
    "### 4. Use the Newton's Method to solve the equation below. Fill in the Newton step. Try to vary the starting value and see if the solution changes.\n",
    "\n",
    "\n",
    "$$f(x) = 3x^2 - \\exp(x)=0$$\n",
    "\n",
    "$$f'(x) = g(x) = 6x-\\exp(x) $$"
   ]
  },
  {
   "cell_type": "code",
   "execution_count": 5,
   "metadata": {},
   "outputs": [
    {
     "name": "stdout",
     "output_type": "stream",
     "text": [
      "Root of f(x): 3.73\n",
      "Number of iterations to archieve convergence: 6\n"
     ]
    },
    {
     "data": {
      "image/png": "[encoded data removed]",
      "text/plain": [
       "<Figure size 640x480 with 1 Axes>"
      ]
     },
     "metadata": {},
     "output_type": "display_data"
    }
   ],
   "source": [
    "f = lambda x: 3*x**2-np.exp(x)\n",
    "g = lambda x: 6*x-np.exp(x)\n",
    "\n",
    "def newton(f, g, x0, tol=10e-5, max_iter=100):\n",
    "    delta = 2000\n",
    "    it=0\n",
    "    while (max_iter>= it and tol<delta):\n",
    "        x1 = x0 - f(x0)/g(x0)\n",
    "        delta = abs(x1-x0)\n",
    "        it += 1\n",
    "        x0 = x1\n",
    "    return x1, it\n",
    "\n",
    "\n",
    "x0,it = newton(f = f, g = g, x0 = 5)\n",
    "\n",
    "x = np.linspace(-2, 4, num=100)\n",
    "fx = f(x)\n",
    "plt.plot(x, fx)\n",
    "plt.axhline(y=0, color='r', linestyle='-')\n",
    "\n",
    "print('Root of f(x):', round(x0,2))\n",
    "print('Number of iterations to archieve convergence:', it)"
   ]
  },
  {
   "cell_type": "markdown",
   "metadata": {},
   "source": [
    "### Newton-Kantorovich\n",
    "\n",
    "Now consider solving the engine replacement model. To do so, we need to find the expected value function that solves the Bellman equation.\n",
    "\n",
    "$$\n",
    "EV(x,d) =  \\Gamma(EV)(x,d) \\quad\\Leftrightarrow\\quad (I - \\Gamma)(EV)(x,d)=\\mathbb{0}\n",
    "$$\n",
    "\n",
    "Similar to the Newton iteration, the **NK iteration** uses the following equation\n",
    "\n",
    "$$\n",
    "EV_{k+1} = EV_{k} - (I-\\Gamma')^{-1} (I-\\Gamma)(EV_k)\n",
    "$$\n",
    "\n",
    "- The new operator is the difference between the identity operator \\$I\\$ and Bellman operator $ \\Gamma  $  \n",
    "- $ \\mathbb{0} $ is zero function  \n",
    "- $ I-\\Gamma' $ is a Fréchet derivative of the operator $ I-\\Gamma $  "
   ]
  },
  {
   "cell_type": "markdown",
   "metadata": {},
   "source": [
    "### 5. Solve the model. In order to solve the model, you should understand:\n",
    "<li> solve_NFXP.init</li>\n",
    "<li> solve_NFXP.setup</li>\n",
    "<li> solve_NFXP.poly </li>\n",
    "<li> solve_NFXP.sa </li>\n",
    "<li> solve_NFXP.nk </li>\n",
    "</il>\n",
    "You can see how they are called below: "
   ]
  },
  {
   "cell_type": "code",
   "execution_count": 6,
   "metadata": {},
   "outputs": [
    {
     "name": "stdout",
     "output_type": "stream",
     "text": [
      "Begin contraction iterations (for the 1 time)\n",
      "Iteration 1, tol     0.4273, tol(j)/tol(j-1)        nan\n",
      "Iteration 2, tol     0.4272, tol(j)/tol(j-1)        nan\n",
      "Iteration 3, tol     0.4272, tol(j)/tol(j-1)        nan\n",
      "Iteration 4, tol     0.4271, tol(j)/tol(j-1)        nan\n",
      "Iteration 5, tol     0.4271, tol(j)/tol(j-1)        nan\n",
      "Iteration 6, tol      0.427, tol(j)/tol(j-1)        nan\n",
      "Iteration 7, tol     0.4269, tol(j)/tol(j-1)        nan\n",
      "Iteration 8, tol     0.4268, tol(j)/tol(j-1)        nan\n",
      "Iteration 9, tol     0.4266, tol(j)/tol(j-1)        nan\n",
      "Iteration 10, tol     0.4264, tol(j)/tol(j-1)        nan\n",
      "Iteration 11, tol     0.4262, tol(j)/tol(j-1)     0.9994\n",
      "SA stopped prematurely due to relative tolerance. Start NK iterations\n",
      "Elapsed time 0.0146 seconds\n",
      "Begin Newton-Kantorovich iterations (for the 1 time)\n",
      "Iteration 1, tol      13.17, tol(j)/tol(j-1)          1\n",
      "Iteration 2, tol      0.308, tol(j)/tol(j-1)    0.02339\n",
      "Iteration 3, tol    0.08956, tol(j)/tol(j-1)     0.2907\n",
      "Iteration 4, tol   0.003309, tol(j)/tol(j-1)    0.03695\n",
      "Iteration 5, tol  1.158e-05, tol(j)/tol(j-1)   0.003499\n",
      "Iteration 6, tol  2.829e-10, tol(j)/tol(j-1)  2.443e-05\n",
      "N-K converged after 6 iterations, tolerance: 2.829e-10\n",
      "Elapsed time 0.0321 seconds\n",
      "Convergence achieved!\n",
      "Elapsed time: 0.0594 (seconds)\n"
     ]
    }
   ],
   "source": [
    "algorithm = 'poly'\n",
    "do_settings_solver = {\n",
    "    'sa_min': 10,\n",
    "    'sa_max': 1000000,  \n",
    "    'printfxp': 2\n",
    "}\n",
    "\n",
    "solver = solve_NFXP(**do_settings_solver)\n",
    "model = zurcher()\n",
    "\n",
    "ev0 = np.zeros((model.n)) # Initial guess\n",
    "if algorithm == 'sa':\n",
    "    ev = solver.sa(model.bellman, ev0)\n",
    "elif algorithm == 'poly':\n",
    "    ev = solver.poly(model.bellman, ev0, beta = model.beta)\n",
    "else:\n",
    "    print('Algorithm must be \"sa\" or \"poly\"')"
   ]
  },
  {
   "cell_type": "markdown",
   "metadata": {},
   "source": [
    "#### 6. Now we have to estimate the model. In order to estimate the model, you should understand:\n",
    "<il type =\"a\">\n",
    "<li> zurcher.read_busdata </li>\n",
    "<li> estimate_NFXP.estimate  </li>\n",
    "<li> estimate_NFXP.ll  </li>\n",
    "</il>\n",
    "\n",
    "You can see how they are called below:"
   ]
  },
  {
   "cell_type": "markdown",
   "metadata": {},
   "source": [
    "#### 7. Fill in the missing stuff in the function estimate_NFXP.ll, and estimate the model to check that your results are correct"
   ]
  },
  {
   "cell_type": "code",
   "execution_count": 7,
   "metadata": {},
   "outputs": [
    {
     "name": "stdout",
     "output_type": "stream",
     "text": [
      "Structual estimation using busdata from Rust(1987)\n",
      "Beta        = 0.9999\n",
      "n           = 175\n",
      "Sample size = 8156\n",
      " \n",
      "\n",
      "Parameters     Estimates    s.e. \n",
      "RC             9.7689     1.2264 \n",
      "c              1.3427     0.3153 \n",
      " \n",
      "p(1)           0.1069     0.0035  \n",
      "p(2)           0.5154     0.0059  \n",
      "p(3)           0.3621     0.0055  \n",
      "p(4)           0.0143     0.0013  \n",
      "\n",
      "Log-likelihood -8599.86\n",
      "runtime (seconds) 1.9350\n",
      "The model converged: True\n"
     ]
    }
   ],
   "source": [
    "# Set up the model\n",
    "model = zurcher()\n",
    "\n",
    "# Set-up solver\n",
    "solver = solve_NFXP()\n",
    "\n",
    "# Read the data\n",
    "data = model.read_busdata(bustypes=[1,2,3,4])\n",
    "samplesize = data.shape[0]\n",
    "\n",
    "# Estimate the model\n",
    "import time\n",
    "t0 = time.time()\n",
    "theta0 = [0,0]\n",
    "\n",
    "# args for nfxp estimate\n",
    "nfxp_model, optim_res, pnames, theta_hat, Avar, converged=estimate.estimate(model, solver,data,theta0=theta0, twostep=0)\n",
    "\n",
    "t1 = time.time()\n",
    "time = t1-t0\n",
    "\n",
    "# Print the result\n",
    "print(f'Structual estimation using busdata from Rust(1987)')\n",
    "print(f'Beta        = {model.beta:.4f}')\n",
    "print(f'n           = {model.n}')\n",
    "print(f'Sample size = {samplesize}\\n \\n')\n",
    "\n",
    "print(f'Parameters     Estimates    s.e. ') \n",
    "print(f'{pnames[0]}             {theta_hat[0]:.4f}     {np.sqrt(Avar[0,0]):.4f} ')\n",
    "print(f'{pnames[1]}              {theta_hat[1]:.4f}     {np.sqrt(Avar[1,1]):.4f} \\n ')\n",
    "print(f'{pnames[2]}(1)           {theta_hat[2]:.4f}     {np.sqrt(Avar[2,2]):.4f}  ')\n",
    "print(f'{pnames[2]}(2)           {theta_hat[3]:.4f}     {np.sqrt(Avar[3,3]):.4f}  ')\n",
    "print(f'{pnames[2]}(3)           {theta_hat[4]:.4f}     {np.sqrt(Avar[4,4]):.4f}  ')\n",
    "print(f'{pnames[2]}(4)           {theta_hat[5]:.4f}     {np.sqrt(Avar[5,5]):.4f}  \\n')\n",
    "\n",
    "\n",
    "print(f'Log-likelihood {-optim_res.fun*samplesize:.2f}') \n",
    "print(f'runtime (seconds) {time:.4f}')\n",
    "print(f'The model converged: {converged}')"
   ]
  },
  {
   "cell_type": "markdown",
   "metadata": {},
   "source": [
    "#### 8. Try using line_profiler in python. This gives you a lot of information about the performance of your code"
   ]
  },
  {
   "cell_type": "code",
   "execution_count": 8,
   "metadata": {},
   "outputs": [
    {
     "name": "stdout",
     "output_type": "stream",
     "text": [
      "Timer unit: 1e-09 s\n",
      "\n",
      "Total time: 1.9165 s\n",
      "File: /Users/marek/github/DSE2025UCL/03_Schjerning_nfxp/code/exercises_python/ex_post/01_NFXP/estimate_NFXP.py\n",
      "Function: estimate at line 9\n",
      "\n",
      "Line #      Hits         Time  Per Hit   % Time  Line Contents\n",
      "==============================================================\n",
      "     9                                           def estimate(model,solver,data,theta0=[0,0],twostep=0):\n",
      "    10                                               \"\"\"\" Estimate model using NFXP\"\"\"\n",
      "    11                                               global ev\n",
      "    12         1      16000.0  16000.0      0.0      ev = np.zeros((model.n)) \n",
      "    13                                               \n",
      "    14         1      20000.0  20000.0      0.0      samplesize = data.shape[0]\n",
      "    15                                               \n",
      "    16                                               # STEP 1: Find p non-parametrically\n",
      "    17         1    1830000.0 1.83e+06      0.1      tabulate = data.dx1.value_counts() # Count number of observations for each dx1\n",
      "    18         1    1597000.0  1.6e+06      0.1      p = [tabulate[i]/sum(tabulate) if i < len(tabulate) else 0 for i in range(len(model.p))]\n",
      "    19                                           \n",
      "    20                                               # STEP 2: Estimate structual parameters\n",
      "    21         1      11000.0  11000.0      0.0      model.p[:] = p # Use first step estimates as starting values for p\n",
      "    22                                               \n",
      "    23                                               # Estimate RC and C\n",
      "    24         1       1000.0   1000.0      0.0      pnames = ['RC','c']\n",
      "    25                                               \n",
      "    26                                               # Call BHHH optimizer\n",
      "    27         1 1453677000.0 1.45e+09     75.9      res = optimize.minimize(ll,theta0,args = (model, solver, data, pnames), method = 'trust-ncg',jac = grad, hess = hes, tol=1e-8)\n",
      "    28                                               # Update parameters\n",
      "    29         1      20000.0  20000.0      0.0      model = updatepar(model,pnames,res.x)\n",
      "    30                                               \n",
      "    31                                               # Estimate RC, c and p\n",
      "    32         1          0.0      0.0      0.0      if twostep == 0:\n",
      "    33         1       1000.0   1000.0      0.0          pnames = ['RC','c','p']\n",
      "    34         1       4000.0   4000.0      0.0          theta0 = [model.RC, model.c] + model.p.tolist() # Starting values\n",
      "    35                                                   # Call BHHH optimizer\n",
      "    36         1  444333000.0 4.44e+08     23.2          res = optimize.minimize(ll,theta0, args = (model,solver,data, pnames), method = 'trust-ncg',jac = grad, hess = hes, tol = 1e-8)\n",
      "    37                                           \n",
      "    38                                                   # Update parameters\n",
      "    39         1      21000.0  21000.0      0.0          model=updatepar(model,pnames,res.x)\n",
      "    40                                           \n",
      "    41                                               # Converged: \"trust-ncg tends to be very conservative about convergence, and will often return status 2 even when the solution is good.\"\n",
      "    42         1       3000.0   3000.0      0.0      converged   =   (res.status == 2 or res.status ==0)\n",
      "    43                                           \n",
      "    44                                               # Compute Variance-Covaiance matrix\n",
      "    45         1   14924000.0 1.49e+07      0.8      h = hes(res.x, model, solver,data, pnames) # Hessian\n",
      "    46         1      41000.0  41000.0      0.0      Avar = np.linalg.inv(h*samplesize) # Variance-Covariance matrix from information matrix equality\n",
      "    47                                           \n",
      "    48         1       4000.0   4000.0      0.0      theta_hat = res.x # unpack estimates\n",
      "    49                                               \n",
      "    50         1          0.0      0.0      0.0      return model, res, pnames, theta_hat, Avar, converged\n",
      "\n",
      "Total time: 1.81504 s\n",
      "File: /Users/marek/github/DSE2025UCL/03_Schjerning_nfxp/code/exercises_python/ex_post/01_NFXP/estimate_NFXP.py\n",
      "Function: ll at line 52\n",
      "\n",
      "Line #      Hits         Time  Per Hit   % Time  Line Contents\n",
      "==============================================================\n",
      "    52                                           def ll(theta, model, solver,data, pnames, out=1, no_guess = False): # out=1 solve optimization\n",
      "    53                                               \"\"\" Compute log-likelihood function \"\"\"\n",
      "    54                                               global ev # Use global variable to store value function to use as starting value for next iteration\n",
      "    55                                               \n",
      "    56                                               #Unpack and convert to numpy array\n",
      "    57       110   52138000.0 473981.8      2.9      x = np.array(data.x - 1) # x is the index of the observed state: We subtract 1 because python starts counting at 0\n",
      "    58       110   10557000.0  95972.7      0.6      d = np.array(data.d) # d is the observed decision\n",
      "    59       110   10101000.0  91827.3      0.6      dx1 = np.array(data.dx1) # dx1 is observed change in x \n",
      "    60                                           \n",
      "    61       110      89000.0    809.1      0.0      if no_guess == True: #Set ev to zero instead of using global variable\n",
      "    62                                                   ev = np.zeros((model.n))\n",
      "    63                                               \n",
      "    64                                               # Update values\n",
      "    65       110    1226000.0  11145.5      0.1      model=updatepar(model,pnames,theta)\n",
      "    66       110     348000.0   3163.6      0.0      model.p = np.abs(model.p)    # helps BHHH which is run as unconstrained optimization\n",
      "    67       110   60180000.0 547090.9      3.3      model.create_grid() # Update grid\n",
      "    68       110      77000.0    700.0      0.0      ev0 = ev # Use previous value function as starting value\n",
      "    69                                           \n",
      "    70                                               # Solve the model\n",
      "    71       110 1664125000.0 1.51e+07     91.7      ev, pk, dev = solver.poly(model.bellman, V0=ev0 ,beta=model.beta, output=3)\n",
      "    72                                           \n",
      "    73                                               # Evaluate likelihood function\n",
      "    74       110    1394000.0  12672.7      0.1      lik_pr = pk[x] # Get probability of keeping given observed state    \n",
      "    75       110    3223000.0  29300.0      0.2      choice_prob = lik_pr * (1 - d) + (1-lik_pr) * d # get probability of making observed choice\n",
      "    76       110    5873000.0  53390.9      0.3      log_lik = np.log(choice_prob)  # Compute log-likelihood-contributions\n",
      "    77                                               \n",
      "    78                                               # add on log like for mileage process\n",
      "    79       110     102000.0    927.3      0.0      if theta.size>2: # theta > 2 if there are parameters for p\n",
      "    80        31    1062000.0  34258.1      0.1          p = np.append(model.p,1-np.sum(model.p)) # Add residual probability to p\n",
      "    81        31     159000.0   5129.0      0.0          if any(p<=0):\n",
      "    82         5     106000.0  21200.0      0.0              log_lik -= 100000*p[dx1] # Penalize if p is negative\n",
      "    83                                                   else:\n",
      "    84        26    1612000.0  62000.0      0.1              log_lik += np.log(p[dx1]) # Add log-likelihood contribution\n",
      "    85                                                   \n",
      "    86                                               else:\n",
      "    87        79      63000.0    797.5      0.0          p = np.nan\n",
      "    88                                           \n",
      "    89                                           \n",
      "    90       110      75000.0    681.8      0.0      if out == 1:\n",
      "    91                                                   # Objective function (negative mean log likleihood)\n",
      "    92        55    2484000.0  45163.6      0.1          return np.mean(-log_lik)\n",
      "    93                                           \n",
      "    94        55      47000.0    854.5      0.0      return model,lik_pr, pk, ev, dev, d,x,dx1"
     ]
    }
   ],
   "source": [
    "%lprun -f estimate.ll  -f estimate.estimate estimate.estimate(model, solver,data,theta0=theta0, twostep=0)"
   ]
  },
  {
   "cell_type": "code",
   "execution_count": 9,
   "metadata": {},
   "outputs": [
    {
     "name": "stdout",
     "output_type": "stream",
     "text": [
      "Timer unit: 1e-09 s\n",
      "\n",
      "Total time: 0.020657 s\n",
      "File: /Users/marek/github/DSE2025UCL/03_Schjerning_nfxp/code/exercises_python/ex_post/01_NFXP/Solve_NFXP.py\n",
      "Function: solve_NFXP.poly at line 31\n",
      "\n",
      "Line #      Hits         Time  Per Hit   % Time  Line Contents\n",
      "==============================================================\n",
      "    31                                               def poly(self,bellman, V0=np.zeros(1), beta= 0.0, output=1):\n",
      "    32                                                   \"\"\"\" Solves the model using the poly-algorithm.\n",
      "    33                                                   set beta = 0.0 if you want to solve only with successive approximations.\n",
      "    34                                                   \"\"\"\n",
      "    35                                           \n",
      "    36         1       2000.0   2000.0      0.0          t0poly = time.time()  # set the starting time\n",
      "    37                                           \n",
      "    38                                                   # Loop over the maximum number of switches between contraction iterations and Newton-Kantorovich iterations\n",
      "    39         6       8000.0   1333.3      0.0          for k in range(self.max_fxpiter):\n",
      "    40                                           \n",
      "    41                                                       # 1. CONTRACTION ITERATIONS (S-A)\n",
      "    42         5       9000.0   1800.0      0.0              if self.printfxp>0:\n",
      "    43                                                           print(f'Begin contraction iterations (for the {k+1} time)')\n",
      "    44         5    5266000.0 1.05e+06     25.5              V0,iter_sa= self.sa(bellman,V0,beta)\n",
      "    45                                           \n",
      "    46                                                       # 2. NEWTON-KANTOROVICH ITERATIONS\n",
      "    47         5       4000.0    800.0      0.0              if self.printfxp>0:\n",
      "    48                                                           print(f'Begin Newton-Kantorovich iterations (for the {k+1} time)')\n",
      "    49         5   15353000.0 3.07e+06     74.3              V0,pk,dV, iter_nk = self.nk(bellman,V0)\n",
      "    50                                           \n",
      "    51                                           \n",
      "    52         5       7000.0   1400.0      0.0              t1poly = time.time()\n",
      "    53         5       2000.0    400.0      0.0              if iter_nk.converged=='true':\n",
      "    54         5       5000.0   1000.0      0.0                  if self.printfxp>0:\n",
      "    55                                                               print(f'Convergence achieved!')\n",
      "    56                                                               print(f'Elapsed time: {(t1poly-t0poly):.4f} (seconds)')\n",
      "    57                                                               break \n",
      "    58                                                       else:\n",
      "    59                                                           if k >= self.max_fxpiter:\n",
      "    60                                                               print(f'No convergence! Maximum number of iterations exceeded without convergence!')\n",
      "    61                                                               break\n",
      "    62         1       1000.0   1000.0      0.0          V = V0\n",
      "    63         1          0.0      0.0      0.0          if output==1:            \n",
      "    64         1          0.0      0.0      0.0              return V\n",
      "    65                                                   if output==2:            \n",
      "    66                                                       return V, pk\n",
      "    67                                                   if output==3:            \n",
      "    68                                                       return V, pk, dV\n",
      "    69                                                   if output==5:            \n",
      "    70                                                       return V, pk, dV, iter_sa, iter_nk\n",
      "    71                                                   else:\n",
      "    72                                                       print('solve_NFXP.poly: output must be 1,2,3 or 5')\n",
      "\n",
      "Total time: 0.015256 s\n",
      "File: /Users/marek/github/DSE2025UCL/03_Schjerning_nfxp/code/exercises_python/ex_post/01_NFXP/Solve_NFXP.py\n",
      "Function: solve_NFXP.nk at line 117\n",
      "\n",
      "Line #      Hits         Time  Per Hit   % Time  Line Contents\n",
      "==============================================================\n",
      "   117                                               def nk(self,bellman, V0):\n",
      "   118                                                   \"\"\"\"Solves the model using the Newton-Kantorovich steps\"\"\"\n",
      "   119                                                   #Empty class to store the iteration output\n",
      "   120         5      54000.0  10800.0      0.4          class iteration: pass\n",
      "   121         5      12000.0   2400.0      0.1          t0 = time.time()\n",
      "   122         5      15000.0   3000.0      0.1          iteration.tol =  np.nan+np.zeros((self.pi_max))\n",
      "   123         5       9000.0   1800.0      0.1          iteration.rtol = np.nan+np.zeros((self.pi_max))\n",
      "   124         5       8000.0   1600.0      0.1          iteration.converged = 'false'\n",
      "   125                                                   # Get the state space size\n",
      "   126         5       4000.0    800.0      0.0          m = V0.size\n",
      "   127                                                   # Loop over the maximum number of Newton-Kantorovich steps\n",
      "   128        10      11000.0   1100.0      0.1          for i in range(self.pi_max):\n",
      "   129                                           \n",
      "   130                                                       # NK-step\n",
      "   131        10    1913000.0 191300.0     12.5              V1, pk, dV = bellman(V0,output=3) # Get derivative of bellman operator\n",
      "   132        10     362000.0  36200.0      2.4              F = np.eye(m)-dV # Compute frechet derivative\n",
      "   133        10   11829000.0 1.18e+06     77.5              V = V0 - np.linalg.inv(F) @ (V0 - V1)  # Do N-K step\n",
      "   134                                                       \n",
      "   135                                                       # do additional SA iteration for stability and accurate measure of error bound\n",
      "   136        10     652000.0  65200.0      4.3              V0 = bellman(V,output=1)\n",
      "   137                                           \n",
      "   138                                                       # Tolerance\n",
      "   139        10     148000.0  14800.0      1.0              iteration.tol[i]=max(abs(V-V0))\n",
      "   140        10      15000.0   1500.0      0.1              iteration.rtol[i] = iteration.tol[i]/(iteration.tol[max(i-1,0)] + 1.0e-15)      \n",
      "   141                                           \n",
      "   142                                                       #Adjust \n",
      "   143        10     140000.0  14000.0      0.9              adj  = np.ceil(np.log10(abs(max(V0))))\n",
      "   144        10       9000.0    900.0      0.1              ltol = self.pi_tol*10**adj  # Adjust final tolerance\n",
      "   145                                           \n",
      "   146        10       8000.0    800.0      0.1              if iteration.tol[i] < ltol:\n",
      "   147                                                           #Convergence achieved\n",
      "   148         5      25000.0   5000.0      0.2                  iteration.message = \"N-K converged after {} iterations, tolerance: {:.4g}\".format(i+1,iteration.tol[i])\n",
      "   149         5       5000.0   1000.0      0.0                  iteration.converged = 'true'\n",
      "   150         5       1000.0    200.0      0.0                  break\n",
      "   151                                                   # Store the iteration output\n",
      "   152         5       2000.0    400.0      0.0          iteration.n = i+1\n",
      "   153         5       6000.0   1200.0      0.0          iteration.tol = iteration.tol[0:i+1]\n",
      "   154         5       5000.0   1000.0      0.0          iteration.rtol = iteration.rtol[0:i+1]\n",
      "   155         5       8000.0   1600.0      0.1          t1 = time.time()\n",
      "   156         5       1000.0    200.0      0.0          iteration.time = t1-t0 \n",
      "   157                                           \n",
      "   158         5      10000.0   2000.0      0.1          self.print_output(iteration)\n",
      "   159                                           \n",
      "   160         5       4000.0    800.0      0.0          return V, pk, dV, iteration"
     ]
    }
   ],
   "source": [
    "ev0 = np.zeros((model.n)) # Initial guess\n",
    "%lprun -f solve_NFXP.nk -f solve_NFXP.poly solve_NFXP.poly(solver,model.bellman, ev0, beta = model.beta)"
   ]
  },
  {
   "cell_type": "markdown",
   "metadata": {},
   "source": [
    "a) Now try changing the optimizer options, and turn the use of the non-numerical Hessian off . What happens?\n",
    "\n",
    "b) Now also try it with the analytical gradient off, what happens?"
   ]
  },
  {
   "cell_type": "code",
   "execution_count": 10,
   "metadata": {},
   "outputs": [
    {
     "name": "stdout",
     "output_type": "stream",
     "text": [
      "BHHH:\n",
      "Time is 1.5158 seconds. The model converges: True\n",
      "Time is 1.4528 seconds. The model converges: True\n",
      "Time is 2.2451 seconds. The model converges: True\n",
      "Time is 1.4657 seconds. The model converges: True\n",
      "Time is 1.5519 seconds. The model converges: True\n",
      "Time is 1.4634 seconds. The model converges: True\n",
      "Time is 1.4703 seconds. The model converges: True\n",
      "Time is 1.5318 seconds. The model converges: True\n",
      "1.6 s ± 267 ms per loop (mean ± std. dev. of 7 runs, 1 loop each)\n",
      "\n",
      "Hessian is off:\n",
      "Time is 4.6663 seconds. The model converges: True\n",
      "Time is 4.2466 seconds. The model converges: True\n",
      "Time is 3.0185 seconds. The model converges: True\n",
      "Time is 4.1195 seconds. The model converges: True\n",
      "Time is 4.7531 seconds. The model converges: True\n",
      "Time is 3.7312 seconds. The model converges: True\n",
      "Time is 2.8225 seconds. The model converges: True\n",
      "Time is 2.8357 seconds. The model converges: True\n",
      "3.65 s ± 712 ms per loop (mean ± std. dev. of 7 runs, 1 loop each)\n",
      "\n",
      "Hessian and gradient are off:\n",
      "Time is 3.7566 seconds. The model converges: True\n",
      "Time is 3.6990 seconds. The model converges: True\n",
      "Time is 3.7669 seconds. The model converges: True\n",
      "Time is 3.7744 seconds. The model converges: True\n",
      "Time is 3.8458 seconds. The model converges: True\n",
      "Time is 3.7468 seconds. The model converges: True\n",
      "Time is 3.7272 seconds. The model converges: True\n",
      "Time is 3.7009 seconds. The model converges: True\n",
      "3.75 s ± 47.2 ms per loop (mean ± std. dev. of 7 runs, 1 loop each)\n"
     ]
    }
   ],
   "source": [
    "import alternative_specifications_ex7 as a_s_ex7\n",
    "import warnings\n",
    "# Turn off warnings: We turn of warnings as a result of overflow. This occurs as the optimizer will sometimes guess on non-feasible transition probabilities. \n",
    "warnings.filterwarnings(\"ignore\", category=RuntimeWarning)\n",
    "\n",
    "model = zurcher()\n",
    "solver = solve_NFXP()\n",
    "\n",
    "#Ordinaty\n",
    "print('BHHH:')\n",
    "%timeit nfxp_results = a_s_ex7.estimate(model, solver,data,theta0=theta0, twostep=0,est_type=0)\n",
    "\n",
    "\n",
    "# Hessian off\n",
    "print('')\n",
    "print('Hessian is off:')\n",
    "%timeit nfxp_result = a_s_ex7.estimate(model, solver,data, twostep=0,est_type=1)\n",
    "\n",
    "\n",
    "# #Hessian and gradient ofF \n",
    "print('')\n",
    "print('Hessian and gradient are off:')\n",
    "%timeit nfxp_results = a_s_ex7.estimate(model, solver,data,theta0=theta0, twostep=0,est_type=2)\n"
   ]
  },
  {
   "cell_type": "markdown",
   "metadata": {},
   "source": [
    "#### 9. Try estimate the model for different values of $\\beta$. \n",
    "\n",
    "(a) Why can we not estimate $\\beta$?\n",
    "\n",
    "(b) When estimating with different $\\beta$, do the changes in the estimates of c and/or RC make intuitively sense?\n",
    "\n",
    "(c) Can you think of some data/variation, which could allow us to identify $\\beta$?"
   ]
  },
  {
   "cell_type": "code",
   "execution_count": 11,
   "metadata": {},
   "outputs": [
    {
     "name": "stdout",
     "output_type": "stream",
     "text": [
      "beta     RC     C       log_lik\n",
      "0.5000 7.3664 18.5137 [-8605.91245211] \n",
      "0.6666 7.4239 12.6984 [-8605.61914601] \n",
      "0.8333 7.6018 6.9196 [-8604.77884432] \n",
      "0.9999 9.7689 1.3427 [-8599.85577546] \n"
     ]
    }
   ],
   "source": [
    "# VARY BETA: \n",
    "Nbeta = 4\n",
    "beta = np.linspace(0.5,0.9999,Nbeta)\n",
    "log_lik = np.nan + np.zeros((Nbeta,1))\n",
    "theta_hats =  np.nan + np.zeros((Nbeta,2))\n",
    "\n",
    "data = model.read_busdata(bustypes=[1,2,3,4])\n",
    "samplesize = data.shape[0]\n",
    "\n",
    "print(f'beta     RC     C       log_lik')\n",
    "for i in range(Nbeta):\n",
    "    \n",
    "    # Set up the model\n",
    "    do_settings = {\n",
    "    'beta': beta[i]\n",
    "    }\n",
    "    model = zurcher(**do_settings)\n",
    "\n",
    "\n",
    "    # Set-up solver\n",
    "    solver = solve_NFXP()\n",
    "\n",
    "    # Estimate the model\n",
    "    theta0 = [0,0]\n",
    "    nfxp_model, optim_res, pnames, theta_hat, Avar, converged=estimate.estimate(model, solver,data,theta0=theta0, twostep=0)\n",
    "\n",
    "    \n",
    "    theta_hats[i,0] = theta_hat[0]\n",
    "    theta_hats[i,1] = theta_hat[1]\n",
    "    log_lik[i]=-optim_res.fun*samplesize\n",
    "    print(f'{beta[i]:.4f} {theta_hats[i,0]:.4f} {theta_hats[i,1]:.4f} {log_lik[i]} ')\n",
    "\n"
   ]
  },
  {
   "cell_type": "markdown",
   "metadata": {},
   "source": [
    "#### 10. We use the latest EV guess to start the solve-procedure even though we change $\\theta$ from one likelihood iteration to another. Why do you think we do that? \n",
    "(a) What if we started over with EV=0 each iteration? Try that and see what happens with the parameters and the numerical performance."
   ]
  },
  {
   "cell_type": "code",
   "execution_count": 12,
   "metadata": {},
   "outputs": [
    {
     "name": "stdout",
     "output_type": "stream",
     "text": [
      "Same EV\n",
      "1.64 s ± 292 ms per loop (mean ± std. dev. of 7 runs, 1 loop each)\n",
      "EV=0\n",
      "1.97 s ± 19.2 ms per loop (mean ± std. dev. of 7 runs, 1 loop each)\n",
      "\n",
      "                 Same EV       EV=0\n",
      "RC               9.7689       9.7689\n",
      "c                1.3427       1.3427\n"
     ]
    }
   ],
   "source": [
    "import alternative_specifications_ex9 as a_s_ex9 \n",
    "\n",
    "# Ordinary\n",
    "print('Same EV')\n",
    "%timeit a_s_ex9.estimate(model, solver,data,0)\n",
    "nfxp_results_ord, theta_hat_ord = a_s_ex9.estimate(model, solver,data,0)\n",
    "\n",
    "\n",
    "# Change EV=0 in each iteration\n",
    "print('EV=0')\n",
    "%timeit a_s_ex9.estimate(model, solver,data,1)\n",
    "nfxp_results_diff, theta_hat_diff = a_s_ex9.estimate(model, solver,data,1)\n",
    "\n",
    "print('')\n",
    "print(f'                 Same EV       EV=0')\n",
    "print(f'{pnames[0]}               {theta_hat_ord[0]:.4f}       {theta_hat_diff[0]:.4f}')\n",
    "print(f'{pnames[1]}                {theta_hat_ord[1]:.4f}       {theta_hat_diff[1]:.4f}')"
   ]
  },
  {
   "cell_type": "markdown",
   "metadata": {},
   "source": [
    "#### 11. Try setting the maximum number of miles (odometer reading) to 900. Now the absorbing state is much higher. \n",
    "\n",
    "(a) If we adjust the number of grid points as well, so that we have a comparable model (multiply the number of grids by 2), do we get a better fit? \n",
    "\n",
    "(b) Try to lower the number of grid points to 175 again. How do the parameters change? Are the changes intuitive? \n",
    "\n",
    "(c) What if you change the max to 225 and half the number of grids (hint: what goes wrong?)?"
   ]
  },
  {
   "cell_type": "code",
   "execution_count": 13,
   "metadata": {},
   "outputs": [],
   "source": [
    "# Function for adjusting Grid-points\n",
    "def adjust_grid_point(maks, n):\n",
    "    # Set up the model\n",
    "    do_settings = {\n",
    "    'max': maks,\n",
    "    'n': n\n",
    "    }\n",
    "    model = zurcher(**do_settings)\n",
    "\n",
    "    # Set-up solver\n",
    "    solver = solve_NFXP()\n",
    "        \n",
    "    # Read the data\n",
    "    data = model.read_busdata(bustypes=[1,2,3,4])\n",
    "    samplesize = data.shape[0]\n",
    "\n",
    "    # Estimate the model\n",
    "    theta0 = [0,0]\n",
    "    breakpoint()\n",
    "    nfxp_model, result, pnames, theta, Avar, converged=estimate.estimate(model, solver,data,theta0=theta0, twostep=0)\n",
    "\n",
    "    \n",
    "    print(f'Parameters     Estimates    s.e. ') \n",
    "    print(f'{pnames[0]}             {theta[0]:.4f}     {np.sqrt(Avar[0,0]):.4f} ')\n",
    "    print(f'{pnames[1]}              {theta[1]:.4f}     {np.sqrt(Avar[1,1]):.4f} \\n ')\n",
    "    print(f'Log-likelihood now {-result.fun*samplesize:.4f}\\n \\n') \n"
   ]
  },
  {
   "cell_type": "code",
   "execution_count": 14,
   "metadata": {},
   "outputs": [
    {
     "name": "stdout",
     "output_type": "stream",
     "text": [
      "Baseline\n",
      "Parameters     Estimates    s.e. \n",
      "RC             9.7689     1.2264 \n",
      "c              1.3427     0.3153 \n",
      " \n",
      "Log-likelihood now -8599.8558\n",
      " \n",
      "\n",
      "Question (a)\n",
      "Parameters     Estimates    s.e. \n",
      "RC             9.7656     1.2381 \n",
      "c              1.3402     0.3204 \n",
      " \n",
      "Log-likelihood now -8599.8737\n",
      " \n",
      "\n",
      "Question (b)\n",
      "Parameters     Estimates    s.e. \n",
      "RC             9.7455     1.2435 \n",
      "c              1.7876     0.4306 \n",
      " \n",
      "Log-likelihood now -7411.9098\n",
      " \n",
      "\n",
      "Question (c)\n"
     ]
    },
    {
     "ename": "IndexError",
     "evalue": "index 87 is out of bounds for axis 0 with size 87",
     "output_type": "error",
     "traceback": [
      "\u001b[0;31m---------------------------------------------------------------------------\u001b[0m",
      "\u001b[0;31mIndexError\u001b[0m                                Traceback (most recent call last)",
      "Cell \u001b[0;32mIn[14], line 15\u001b[0m\n\u001b[1;32m     13\u001b[0m \u001b[38;5;66;03m# c) max =225, n = 175/2\u001b[39;00m\n\u001b[1;32m     14\u001b[0m \u001b[38;5;28mprint\u001b[39m(\u001b[38;5;124mf\u001b[39m\u001b[38;5;124m'\u001b[39m\u001b[38;5;124mQuestion (c)\u001b[39m\u001b[38;5;124m'\u001b[39m)\n\u001b[0;32m---> 15\u001b[0m \u001b[43madjust_grid_point\u001b[49m\u001b[43m(\u001b[49m\u001b[38;5;28;43mint\u001b[39;49m\u001b[43m(\u001b[49m\u001b[38;5;241;43m450\u001b[39;49m\u001b[38;5;241;43m/\u001b[39;49m\u001b[38;5;241;43m2\u001b[39;49m\u001b[43m)\u001b[49m\u001b[43m,\u001b[49m\u001b[38;5;28;43mint\u001b[39;49m\u001b[43m(\u001b[49m\u001b[38;5;241;43m175\u001b[39;49m\u001b[38;5;241;43m/\u001b[39;49m\u001b[38;5;241;43m2\u001b[39;49m\u001b[43m)\u001b[49m\u001b[43m)\u001b[49m;\n",
      "Cell \u001b[0;32mIn[13], line 20\u001b[0m, in \u001b[0;36madjust_grid_point\u001b[0;34m(maks, n)\u001b[0m\n\u001b[1;32m     18\u001b[0m theta0 \u001b[38;5;241m=\u001b[39m [\u001b[38;5;241m0\u001b[39m,\u001b[38;5;241m0\u001b[39m]\n\u001b[1;32m     19\u001b[0m \u001b[38;5;28mbreakpoint\u001b[39m()\n\u001b[0;32m---> 20\u001b[0m nfxp_model, result, pnames, theta, Avar, converged\u001b[38;5;241m=\u001b[39m\u001b[43mestimate\u001b[49m\u001b[38;5;241;43m.\u001b[39;49m\u001b[43mestimate\u001b[49m\u001b[43m(\u001b[49m\u001b[43mmodel\u001b[49m\u001b[43m,\u001b[49m\u001b[43m \u001b[49m\u001b[43msolver\u001b[49m\u001b[43m,\u001b[49m\u001b[43mdata\u001b[49m\u001b[43m,\u001b[49m\u001b[43mtheta0\u001b[49m\u001b[38;5;241;43m=\u001b[39;49m\u001b[43mtheta0\u001b[49m\u001b[43m,\u001b[49m\u001b[43m \u001b[49m\u001b[43mtwostep\u001b[49m\u001b[38;5;241;43m=\u001b[39;49m\u001b[38;5;241;43m0\u001b[39;49m\u001b[43m)\u001b[49m\n\u001b[1;32m     23\u001b[0m \u001b[38;5;28mprint\u001b[39m(\u001b[38;5;124mf\u001b[39m\u001b[38;5;124m'\u001b[39m\u001b[38;5;124mParameters     Estimates    s.e. \u001b[39m\u001b[38;5;124m'\u001b[39m) \n\u001b[1;32m     24\u001b[0m \u001b[38;5;28mprint\u001b[39m(\u001b[38;5;124mf\u001b[39m\u001b[38;5;124m'\u001b[39m\u001b[38;5;132;01m{\u001b[39;00mpnames[\u001b[38;5;241m0\u001b[39m]\u001b[38;5;132;01m}\u001b[39;00m\u001b[38;5;124m             \u001b[39m\u001b[38;5;132;01m{\u001b[39;00mtheta[\u001b[38;5;241m0\u001b[39m]\u001b[38;5;132;01m:\u001b[39;00m\u001b[38;5;124m.4f\u001b[39m\u001b[38;5;132;01m}\u001b[39;00m\u001b[38;5;124m     \u001b[39m\u001b[38;5;132;01m{\u001b[39;00mnp\u001b[38;5;241m.\u001b[39msqrt(Avar[\u001b[38;5;241m0\u001b[39m,\u001b[38;5;241m0\u001b[39m])\u001b[38;5;132;01m:\u001b[39;00m\u001b[38;5;124m.4f\u001b[39m\u001b[38;5;132;01m}\u001b[39;00m\u001b[38;5;124m \u001b[39m\u001b[38;5;124m'\u001b[39m)\n",
      "File \u001b[0;32m~/github/DSE2025UCL/03_Schjerning_nfxp/code/exercises_python/ex_post/01_NFXP/estimate_NFXP.py:27\u001b[0m, in \u001b[0;36mestimate\u001b[0;34m(model, solver, data, theta0, twostep)\u001b[0m\n\u001b[1;32m     24\u001b[0m pnames \u001b[38;5;241m=\u001b[39m [\u001b[38;5;124m'\u001b[39m\u001b[38;5;124mRC\u001b[39m\u001b[38;5;124m'\u001b[39m,\u001b[38;5;124m'\u001b[39m\u001b[38;5;124mc\u001b[39m\u001b[38;5;124m'\u001b[39m]\n\u001b[1;32m     26\u001b[0m \u001b[38;5;66;03m# Call BHHH optimizer\u001b[39;00m\n\u001b[0;32m---> 27\u001b[0m res \u001b[38;5;241m=\u001b[39m \u001b[43moptimize\u001b[49m\u001b[38;5;241;43m.\u001b[39;49m\u001b[43mminimize\u001b[49m\u001b[43m(\u001b[49m\u001b[43mll\u001b[49m\u001b[43m,\u001b[49m\u001b[43mtheta0\u001b[49m\u001b[43m,\u001b[49m\u001b[43margs\u001b[49m\u001b[43m \u001b[49m\u001b[38;5;241;43m=\u001b[39;49m\u001b[43m \u001b[49m\u001b[43m(\u001b[49m\u001b[43mmodel\u001b[49m\u001b[43m,\u001b[49m\u001b[43m \u001b[49m\u001b[43msolver\u001b[49m\u001b[43m,\u001b[49m\u001b[43m \u001b[49m\u001b[43mdata\u001b[49m\u001b[43m,\u001b[49m\u001b[43m \u001b[49m\u001b[43mpnames\u001b[49m\u001b[43m)\u001b[49m\u001b[43m,\u001b[49m\u001b[43m \u001b[49m\u001b[43mmethod\u001b[49m\u001b[43m \u001b[49m\u001b[38;5;241;43m=\u001b[39;49m\u001b[43m \u001b[49m\u001b[38;5;124;43m'\u001b[39;49m\u001b[38;5;124;43mtrust-ncg\u001b[39;49m\u001b[38;5;124;43m'\u001b[39;49m\u001b[43m,\u001b[49m\u001b[43mjac\u001b[49m\u001b[43m \u001b[49m\u001b[38;5;241;43m=\u001b[39;49m\u001b[43m \u001b[49m\u001b[43mgrad\u001b[49m\u001b[43m,\u001b[49m\u001b[43m \u001b[49m\u001b[43mhess\u001b[49m\u001b[43m \u001b[49m\u001b[38;5;241;43m=\u001b[39;49m\u001b[43m \u001b[49m\u001b[43mhes\u001b[49m\u001b[43m,\u001b[49m\u001b[43m \u001b[49m\u001b[43mtol\u001b[49m\u001b[38;5;241;43m=\u001b[39;49m\u001b[38;5;241;43m1e-8\u001b[39;49m\u001b[43m)\u001b[49m\n\u001b[1;32m     28\u001b[0m \u001b[38;5;66;03m# Update parameters\u001b[39;00m\n\u001b[1;32m     29\u001b[0m model \u001b[38;5;241m=\u001b[39m updatepar(model,pnames,res\u001b[38;5;241m.\u001b[39mx)\n",
      "File \u001b[0;32m/opt/anaconda3/lib/python3.13/site-packages/scipy/optimize/_minimize.py:806\u001b[0m, in \u001b[0;36mminimize\u001b[0;34m(fun, x0, args, method, jac, hess, hessp, bounds, constraints, tol, callback, options)\u001b[0m\n\u001b[1;32m    803\u001b[0m     res \u001b[38;5;241m=\u001b[39m _minimize_dogleg(fun, x0, args, jac, hess,\n\u001b[1;32m    804\u001b[0m                            callback\u001b[38;5;241m=\u001b[39mcallback, \u001b[38;5;241m*\u001b[39m\u001b[38;5;241m*\u001b[39moptions)\n\u001b[1;32m    805\u001b[0m \u001b[38;5;28;01melif\u001b[39;00m meth \u001b[38;5;241m==\u001b[39m \u001b[38;5;124m'\u001b[39m\u001b[38;5;124mtrust-ncg\u001b[39m\u001b[38;5;124m'\u001b[39m:\n\u001b[0;32m--> 806\u001b[0m     res \u001b[38;5;241m=\u001b[39m \u001b[43m_minimize_trust_ncg\u001b[49m\u001b[43m(\u001b[49m\u001b[43mfun\u001b[49m\u001b[43m,\u001b[49m\u001b[43m \u001b[49m\u001b[43mx0\u001b[49m\u001b[43m,\u001b[49m\u001b[43m \u001b[49m\u001b[43margs\u001b[49m\u001b[43m,\u001b[49m\u001b[43m \u001b[49m\u001b[43mjac\u001b[49m\u001b[43m,\u001b[49m\u001b[43m \u001b[49m\u001b[43mhess\u001b[49m\u001b[43m,\u001b[49m\u001b[43m \u001b[49m\u001b[43mhessp\u001b[49m\u001b[43m,\u001b[49m\n\u001b[1;32m    807\u001b[0m \u001b[43m                              \u001b[49m\u001b[43mcallback\u001b[49m\u001b[38;5;241;43m=\u001b[39;49m\u001b[43mcallback\u001b[49m\u001b[43m,\u001b[49m\u001b[43m \u001b[49m\u001b[38;5;241;43m*\u001b[39;49m\u001b[38;5;241;43m*\u001b[39;49m\u001b[43moptions\u001b[49m\u001b[43m)\u001b[49m\n\u001b[1;32m    808\u001b[0m \u001b[38;5;28;01melif\u001b[39;00m meth \u001b[38;5;241m==\u001b[39m \u001b[38;5;124m'\u001b[39m\u001b[38;5;124mtrust-krylov\u001b[39m\u001b[38;5;124m'\u001b[39m:\n\u001b[1;32m    809\u001b[0m     res \u001b[38;5;241m=\u001b[39m _minimize_trust_krylov(fun, x0, args, jac, hess, hessp,\n\u001b[1;32m    810\u001b[0m                                  callback\u001b[38;5;241m=\u001b[39mcallback, \u001b[38;5;241m*\u001b[39m\u001b[38;5;241m*\u001b[39moptions)\n",
      "File \u001b[0;32m/opt/anaconda3/lib/python3.13/site-packages/scipy/optimize/_trustregion_ncg.py:37\u001b[0m, in \u001b[0;36m_minimize_trust_ncg\u001b[0;34m(fun, x0, args, jac, hess, hessp, **trust_region_options)\u001b[0m\n\u001b[1;32m     34\u001b[0m \u001b[38;5;28;01mif\u001b[39;00m hess \u001b[38;5;129;01mis\u001b[39;00m \u001b[38;5;28;01mNone\u001b[39;00m \u001b[38;5;129;01mand\u001b[39;00m hessp \u001b[38;5;129;01mis\u001b[39;00m \u001b[38;5;28;01mNone\u001b[39;00m:\n\u001b[1;32m     35\u001b[0m     \u001b[38;5;28;01mraise\u001b[39;00m \u001b[38;5;167;01mValueError\u001b[39;00m(\u001b[38;5;124m'\u001b[39m\u001b[38;5;124mEither the Hessian or the Hessian-vector product \u001b[39m\u001b[38;5;124m'\u001b[39m\n\u001b[1;32m     36\u001b[0m                      \u001b[38;5;124m'\u001b[39m\u001b[38;5;124mis required for Newton-CG trust-region minimization\u001b[39m\u001b[38;5;124m'\u001b[39m)\n\u001b[0;32m---> 37\u001b[0m \u001b[38;5;28;01mreturn\u001b[39;00m \u001b[43m_minimize_trust_region\u001b[49m\u001b[43m(\u001b[49m\u001b[43mfun\u001b[49m\u001b[43m,\u001b[49m\u001b[43m \u001b[49m\u001b[43mx0\u001b[49m\u001b[43m,\u001b[49m\u001b[43m \u001b[49m\u001b[43margs\u001b[49m\u001b[38;5;241;43m=\u001b[39;49m\u001b[43margs\u001b[49m\u001b[43m,\u001b[49m\u001b[43m \u001b[49m\u001b[43mjac\u001b[49m\u001b[38;5;241;43m=\u001b[39;49m\u001b[43mjac\u001b[49m\u001b[43m,\u001b[49m\u001b[43m \u001b[49m\u001b[43mhess\u001b[49m\u001b[38;5;241;43m=\u001b[39;49m\u001b[43mhess\u001b[49m\u001b[43m,\u001b[49m\n\u001b[1;32m     38\u001b[0m \u001b[43m                              \u001b[49m\u001b[43mhessp\u001b[49m\u001b[38;5;241;43m=\u001b[39;49m\u001b[43mhessp\u001b[49m\u001b[43m,\u001b[49m\u001b[43m \u001b[49m\u001b[43msubproblem\u001b[49m\u001b[38;5;241;43m=\u001b[39;49m\u001b[43mCGSteihaugSubproblem\u001b[49m\u001b[43m,\u001b[49m\n\u001b[1;32m     39\u001b[0m \u001b[43m                              \u001b[49m\u001b[38;5;241;43m*\u001b[39;49m\u001b[38;5;241;43m*\u001b[39;49m\u001b[43mtrust_region_options\u001b[49m\u001b[43m)\u001b[49m\n",
      "File \u001b[0;32m/opt/anaconda3/lib/python3.13/site-packages/scipy/optimize/_trustregion.py:187\u001b[0m, in \u001b[0;36m_minimize_trust_region\u001b[0;34m(fun, x0, args, jac, hess, hessp, subproblem, initial_trust_radius, max_trust_radius, eta, gtol, maxiter, disp, return_all, callback, inexact, workers, **unknown_options)\u001b[0m\n\u001b[1;32m    179\u001b[0m x0 \u001b[38;5;241m=\u001b[39m np\u001b[38;5;241m.\u001b[39masarray(x0)\u001b[38;5;241m.\u001b[39mflatten()\n\u001b[1;32m    181\u001b[0m \u001b[38;5;66;03m# A ScalarFunction representing the problem. This caches calls to fun, jac,\u001b[39;00m\n\u001b[1;32m    182\u001b[0m \u001b[38;5;66;03m# hess.\u001b[39;00m\n\u001b[1;32m    183\u001b[0m \u001b[38;5;66;03m# the workers kwd only has an effect for trust-ncg, trust-krylov when\u001b[39;00m\n\u001b[1;32m    184\u001b[0m \u001b[38;5;66;03m# estimating the Hessian with finite-differences. It's never used\u001b[39;00m\n\u001b[1;32m    185\u001b[0m \u001b[38;5;66;03m# during calculation of jacobian, because callables are required for all\u001b[39;00m\n\u001b[1;32m    186\u001b[0m \u001b[38;5;66;03m# methods.\u001b[39;00m\n\u001b[0;32m--> 187\u001b[0m sf \u001b[38;5;241m=\u001b[39m \u001b[43m_prepare_scalar_function\u001b[49m\u001b[43m(\u001b[49m\n\u001b[1;32m    188\u001b[0m \u001b[43m    \u001b[49m\u001b[43mfun\u001b[49m\u001b[43m,\u001b[49m\u001b[43m \u001b[49m\u001b[43mx0\u001b[49m\u001b[43m,\u001b[49m\u001b[43m \u001b[49m\u001b[43mjac\u001b[49m\u001b[38;5;241;43m=\u001b[39;49m\u001b[43mjac\u001b[49m\u001b[43m,\u001b[49m\u001b[43m \u001b[49m\u001b[43mhess\u001b[49m\u001b[38;5;241;43m=\u001b[39;49m\u001b[43mhess\u001b[49m\u001b[43m,\u001b[49m\u001b[43m \u001b[49m\u001b[43margs\u001b[49m\u001b[38;5;241;43m=\u001b[39;49m\u001b[43margs\u001b[49m\u001b[43m,\u001b[49m\u001b[43m \u001b[49m\u001b[43mworkers\u001b[49m\u001b[38;5;241;43m=\u001b[39;49m\u001b[43mworkers\u001b[49m\n\u001b[1;32m    189\u001b[0m \u001b[43m\u001b[49m\u001b[43m)\u001b[49m\n\u001b[1;32m    190\u001b[0m fun \u001b[38;5;241m=\u001b[39m sf\u001b[38;5;241m.\u001b[39mfun\n\u001b[1;32m    191\u001b[0m jac \u001b[38;5;241m=\u001b[39m sf\u001b[38;5;241m.\u001b[39mgrad\n",
      "File \u001b[0;32m/opt/anaconda3/lib/python3.13/site-packages/scipy/optimize/_optimize.py:310\u001b[0m, in \u001b[0;36m_prepare_scalar_function\u001b[0;34m(fun, x0, jac, args, bounds, epsilon, finite_diff_rel_step, hess, workers)\u001b[0m\n\u001b[1;32m    306\u001b[0m workers \u001b[38;5;241m=\u001b[39m workers \u001b[38;5;129;01mor\u001b[39;00m \u001b[38;5;28mmap\u001b[39m\n\u001b[1;32m    308\u001b[0m \u001b[38;5;66;03m# ScalarFunction caches. Reuse of fun(x) during grad\u001b[39;00m\n\u001b[1;32m    309\u001b[0m \u001b[38;5;66;03m# calculation reduces overall function evaluations.\u001b[39;00m\n\u001b[0;32m--> 310\u001b[0m sf \u001b[38;5;241m=\u001b[39m \u001b[43mScalarFunction\u001b[49m\u001b[43m(\u001b[49m\u001b[43mfun\u001b[49m\u001b[43m,\u001b[49m\u001b[43m \u001b[49m\u001b[43mx0\u001b[49m\u001b[43m,\u001b[49m\u001b[43m \u001b[49m\u001b[43margs\u001b[49m\u001b[43m,\u001b[49m\u001b[43m \u001b[49m\u001b[43mgrad\u001b[49m\u001b[43m,\u001b[49m\u001b[43m \u001b[49m\u001b[43mhess\u001b[49m\u001b[43m,\u001b[49m\n\u001b[1;32m    311\u001b[0m \u001b[43m                    \u001b[49m\u001b[43mfinite_diff_rel_step\u001b[49m\u001b[43m,\u001b[49m\u001b[43m \u001b[49m\u001b[43mbounds\u001b[49m\u001b[43m,\u001b[49m\u001b[43m \u001b[49m\u001b[43mepsilon\u001b[49m\u001b[38;5;241;43m=\u001b[39;49m\u001b[43mepsilon\u001b[49m\u001b[43m,\u001b[49m\n\u001b[1;32m    312\u001b[0m \u001b[43m                    \u001b[49m\u001b[43mworkers\u001b[49m\u001b[38;5;241;43m=\u001b[39;49m\u001b[43mworkers\u001b[49m\u001b[43m)\u001b[49m\n\u001b[1;32m    314\u001b[0m \u001b[38;5;28;01mreturn\u001b[39;00m sf\n",
      "File \u001b[0;32m/opt/anaconda3/lib/python3.13/site-packages/scipy/optimize/_differentiable_functions.py:274\u001b[0m, in \u001b[0;36mScalarFunction.__init__\u001b[0;34m(self, fun, x0, args, grad, hess, finite_diff_rel_step, finite_diff_bounds, epsilon, workers)\u001b[0m\n\u001b[1;32m    272\u001b[0m \u001b[38;5;66;03m# Initial function evaluation\u001b[39;00m\n\u001b[1;32m    273\u001b[0m \u001b[38;5;28mself\u001b[39m\u001b[38;5;241m.\u001b[39m_nfev \u001b[38;5;241m=\u001b[39m \u001b[38;5;241m0\u001b[39m\n\u001b[0;32m--> 274\u001b[0m \u001b[38;5;28;43mself\u001b[39;49m\u001b[38;5;241;43m.\u001b[39;49m\u001b[43m_update_fun\u001b[49m\u001b[43m(\u001b[49m\u001b[43m)\u001b[49m\n\u001b[1;32m    276\u001b[0m \u001b[38;5;66;03m# Initial gradient evaluation\u001b[39;00m\n\u001b[1;32m    277\u001b[0m \u001b[38;5;28mself\u001b[39m\u001b[38;5;241m.\u001b[39m_wrapped_grad \u001b[38;5;241m=\u001b[39m _ScalarGradWrapper(\n\u001b[1;32m    278\u001b[0m     grad,\n\u001b[1;32m    279\u001b[0m     fun\u001b[38;5;241m=\u001b[39m\u001b[38;5;28mself\u001b[39m\u001b[38;5;241m.\u001b[39m_wrapped_fun,\n\u001b[1;32m    280\u001b[0m     args\u001b[38;5;241m=\u001b[39margs,\n\u001b[1;32m    281\u001b[0m     finite_diff_options\u001b[38;5;241m=\u001b[39mfinite_diff_options,\n\u001b[1;32m    282\u001b[0m )\n",
      "File \u001b[0;32m/opt/anaconda3/lib/python3.13/site-packages/scipy/optimize/_differentiable_functions.py:353\u001b[0m, in \u001b[0;36mScalarFunction._update_fun\u001b[0;34m(self)\u001b[0m\n\u001b[1;32m    351\u001b[0m \u001b[38;5;28;01mdef\u001b[39;00m\u001b[38;5;250m \u001b[39m\u001b[38;5;21m_update_fun\u001b[39m(\u001b[38;5;28mself\u001b[39m):\n\u001b[1;32m    352\u001b[0m     \u001b[38;5;28;01mif\u001b[39;00m \u001b[38;5;129;01mnot\u001b[39;00m \u001b[38;5;28mself\u001b[39m\u001b[38;5;241m.\u001b[39mf_updated:\n\u001b[0;32m--> 353\u001b[0m         fx \u001b[38;5;241m=\u001b[39m \u001b[38;5;28;43mself\u001b[39;49m\u001b[38;5;241;43m.\u001b[39;49m\u001b[43m_wrapped_fun\u001b[49m\u001b[43m(\u001b[49m\u001b[38;5;28;43mself\u001b[39;49m\u001b[38;5;241;43m.\u001b[39;49m\u001b[43mx\u001b[49m\u001b[43m)\u001b[49m\n\u001b[1;32m    354\u001b[0m         \u001b[38;5;28mself\u001b[39m\u001b[38;5;241m.\u001b[39m_nfev \u001b[38;5;241m+\u001b[39m\u001b[38;5;241m=\u001b[39m \u001b[38;5;241m1\u001b[39m\n\u001b[1;32m    355\u001b[0m         \u001b[38;5;28;01mif\u001b[39;00m fx \u001b[38;5;241m<\u001b[39m \u001b[38;5;28mself\u001b[39m\u001b[38;5;241m.\u001b[39m_lowest_f:\n",
      "File \u001b[0;32m/opt/anaconda3/lib/python3.13/site-packages/scipy/_lib/_util.py:590\u001b[0m, in \u001b[0;36m_ScalarFunctionWrapper.__call__\u001b[0;34m(self, x)\u001b[0m\n\u001b[1;32m    587\u001b[0m \u001b[38;5;28;01mdef\u001b[39;00m\u001b[38;5;250m \u001b[39m\u001b[38;5;21m__call__\u001b[39m(\u001b[38;5;28mself\u001b[39m, x):\n\u001b[1;32m    588\u001b[0m     \u001b[38;5;66;03m# Send a copy because the user may overwrite it.\u001b[39;00m\n\u001b[1;32m    589\u001b[0m     \u001b[38;5;66;03m# The user of this class might want `x` to remain unchanged.\u001b[39;00m\n\u001b[0;32m--> 590\u001b[0m     fx \u001b[38;5;241m=\u001b[39m \u001b[38;5;28;43mself\u001b[39;49m\u001b[38;5;241;43m.\u001b[39;49m\u001b[43mf\u001b[49m\u001b[43m(\u001b[49m\u001b[43mnp\u001b[49m\u001b[38;5;241;43m.\u001b[39;49m\u001b[43mcopy\u001b[49m\u001b[43m(\u001b[49m\u001b[43mx\u001b[49m\u001b[43m)\u001b[49m\u001b[43m,\u001b[49m\u001b[43m \u001b[49m\u001b[38;5;241;43m*\u001b[39;49m\u001b[38;5;28;43mself\u001b[39;49m\u001b[38;5;241;43m.\u001b[39;49m\u001b[43margs\u001b[49m\u001b[43m)\u001b[49m\n\u001b[1;32m    591\u001b[0m     \u001b[38;5;28mself\u001b[39m\u001b[38;5;241m.\u001b[39mnfev \u001b[38;5;241m+\u001b[39m\u001b[38;5;241m=\u001b[39m \u001b[38;5;241m1\u001b[39m\n\u001b[1;32m    593\u001b[0m     \u001b[38;5;66;03m# Make sure the function returns a true scalar\u001b[39;00m\n",
      "File \u001b[0;32m~/github/DSE2025UCL/03_Schjerning_nfxp/code/exercises_python/ex_post/01_NFXP/estimate_NFXP.py:74\u001b[0m, in \u001b[0;36mll\u001b[0;34m(theta, model, solver, data, pnames, out, no_guess)\u001b[0m\n\u001b[1;32m     71\u001b[0m ev, pk, dev \u001b[38;5;241m=\u001b[39m solver\u001b[38;5;241m.\u001b[39mpoly(model\u001b[38;5;241m.\u001b[39mbellman, V0\u001b[38;5;241m=\u001b[39mev0 ,beta\u001b[38;5;241m=\u001b[39mmodel\u001b[38;5;241m.\u001b[39mbeta, output\u001b[38;5;241m=\u001b[39m\u001b[38;5;241m3\u001b[39m)\n\u001b[1;32m     73\u001b[0m \u001b[38;5;66;03m# Evaluate likelihood function\u001b[39;00m\n\u001b[0;32m---> 74\u001b[0m lik_pr \u001b[38;5;241m=\u001b[39m \u001b[43mpk\u001b[49m\u001b[43m[\u001b[49m\u001b[43mx\u001b[49m\u001b[43m]\u001b[49m \u001b[38;5;66;03m# Get probability of keeping given observed state    \u001b[39;00m\n\u001b[1;32m     75\u001b[0m choice_prob \u001b[38;5;241m=\u001b[39m lik_pr \u001b[38;5;241m*\u001b[39m (\u001b[38;5;241m1\u001b[39m \u001b[38;5;241m-\u001b[39m d) \u001b[38;5;241m+\u001b[39m (\u001b[38;5;241m1\u001b[39m\u001b[38;5;241m-\u001b[39mlik_pr) \u001b[38;5;241m*\u001b[39m d \u001b[38;5;66;03m# get probability of making observed choice\u001b[39;00m\n\u001b[1;32m     76\u001b[0m log_lik \u001b[38;5;241m=\u001b[39m np\u001b[38;5;241m.\u001b[39mlog(choice_prob)  \u001b[38;5;66;03m# Compute log-likelihood-contributions\u001b[39;00m\n",
      "\u001b[0;31mIndexError\u001b[0m: index 87 is out of bounds for axis 0 with size 87"
     ]
    }
   ],
   "source": [
    "# Baseline max = 450, n = 175\n",
    "print(f'Baseline')\n",
    "adjust_grid_point(450,175);\n",
    "\n",
    "# a)  max = 900, n = 175*2\n",
    "print(f'Question (a)')\n",
    "adjust_grid_point(450*2,175*2)\n",
    "\n",
    "# b) max = 600, n = 175\n",
    "print(f'Question (b)')\n",
    "adjust_grid_point(600,175)\n",
    "\n",
    "# c) max =225, n = 175/2\n",
    "print(f'Question (c)')\n",
    "adjust_grid_point(int(450/2),int(175/2));"
   ]
  }
 ],
 "metadata": {
  "kernelspec": {
   "display_name": "base",
   "language": "python",
   "name": "python3"
  },
  "language_info": {
   "codemirror_mode": {
    "name": "ipython",
    "version": 3
   },
   "file_extension": ".py",
   "mimetype": "text/x-python",
   "name": "python",
   "nbconvert_exporter": "python",
   "pygments_lexer": "ipython3",
   "version": "3.13.5"
  }
 },
 "nbformat": 4,
 "nbformat_minor": 4
}
